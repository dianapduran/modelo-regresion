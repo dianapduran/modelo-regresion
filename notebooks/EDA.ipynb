{
 "cells": [
  {
   "cell_type": "markdown",
   "id": "5645a688",
   "metadata": {},
   "source": [
    "1. Importar librerías"
   ]
  },
  {
   "cell_type": "code",
   "execution_count": 1,
   "id": "764ce830",
   "metadata": {},
   "outputs": [],
   "source": [
    "# PEP8 es una guía de estilo para escribir código Python. (https://www.python.org/dev/peps/pep-0008/)\n",
    "\n",
    "# Librerías estándar de python\n",
    "import os\n",
    "import tarfile\n",
    "import urllib.request as request\n",
    "import pandas as pd\n",
    "# Librerías de terceros\n",
    "import pandas as pd\n",
    "import numpy as np\n",
    "import matplotlib.pyplot as plt\n",
    "import seaborn as sns\n",
    "from sklearn.model_selection import train_test_split\n",
    "from sklearn.preprocessing import OrdinalEncoder, OneHotEncoder, StandardScaler\n",
    "from sklearn.linear_model import LinearRegression\n",
    "from sklearn.impute import SimpleImputer\n",
    "from sklearn.pipeline import Pipeline\n",
    "from sklearn.compose import ColumnTransformer\n",
    "from sklearn.metrics import mean_squared_error, r2_score\n",
    "\n",
    "# Librerías locales\n",
    "# from mi_clase import AwsStorage\n",
    "\n",
    "%matplotlib inline"
   ]
  },
  {
   "cell_type": "code",
   "execution_count": 2,
   "id": "41b6165a",
   "metadata": {},
   "outputs": [
    {
     "name": "stdout",
     "output_type": "stream",
     "text": [
      "d:\\OneDrive - Landers\\Documentos\\Curso Python\\parte_2\\Sln_PublicarModelodeRegresion\\venv\\Scripts\\python.exe\n"
     ]
    }
   ],
   "source": [
    "import sys\n",
    "print(sys.executable)\n"
   ]
  },
  {
   "cell_type": "code",
   "execution_count": 3,
   "id": "b34e43cc",
   "metadata": {},
   "outputs": [],
   "source": [
    "import os\n",
    "\n",
    "# Carpeta donde están los datos\n",
    "DATA_DIR = os.path.join(\"data\")\n",
    "\n",
    "# Ruta completa al archivo\n",
    "INGRESOS_PATH = os.path.join(DATA_DIR, \"ingresos.txt\")\n"
   ]
  },
  {
   "cell_type": "code",
   "execution_count": 4,
   "id": "ba9364dc",
   "metadata": {},
   "outputs": [
    {
     "name": "stdout",
     "output_type": "stream",
     "text": [
      "data\\ingresos.txt\n"
     ]
    }
   ],
   "source": [
    "print(INGRESOS_PATH)"
   ]
  },
  {
   "cell_type": "markdown",
   "id": "ec6a292b",
   "metadata": {},
   "source": [
    "3. Extracción de los datos"
   ]
  },
  {
   "cell_type": "code",
   "execution_count": 5,
   "id": "0e0e52fd",
   "metadata": {},
   "outputs": [],
   "source": [
    "import os\n",
    "\n",
    "# Ruta a la carpeta de datos\n",
    "DATA_DIR = os.path.join(\"data\")\n",
    "# Ruta completa al archivo\n",
    "INGRESOS_PATH = os.path.join(DATA_DIR, \"ingresos.txt\")\n",
    "\n",
    "def cargar_datos(path: str = INGRESOS_PATH) -> pd.DataFrame:\n",
    "    # Verifica que el archivo exista\n",
    "    if not os.path.isfile(path):\n",
    "        raise FileNotFoundError(f\"Archivo no encontrado en: {path}\")\n",
    "    \n",
    "    # Carga el archivo CSV y lo devuelve como DataFrame\n",
    "    return pd.read_csv(path)"
   ]
  },
  {
   "cell_type": "code",
   "execution_count": 13,
   "id": "5cbd9084",
   "metadata": {},
   "outputs": [
    {
     "name": "stdout",
     "output_type": "stream",
     "text": [
      "data\n"
     ]
    }
   ],
   "source": [
    "print(DATA_DIR)"
   ]
  },
  {
   "cell_type": "code",
   "execution_count": 15,
   "id": "78ad0cce",
   "metadata": {},
   "outputs": [
    {
     "name": "stdout",
     "output_type": "stream",
     "text": [
      "Directorio actual: d:\\OneDrive - Landers\\Documentos\\Curso Python\\parte_2\\Sln_PublicarModelodeRegresion\\notebooks\n"
     ]
    }
   ],
   "source": [
    "print(\"Directorio actual:\", os.getcwd())"
   ]
  },
  {
   "cell_type": "code",
   "execution_count": 16,
   "id": "f9de796f",
   "metadata": {},
   "outputs": [],
   "source": [
    "os.chdir( 'd:\\OneDrive - Landers\\Documentos\\Curso Python\\parte_2\\Sln_PublicarModelodeRegresion')"
   ]
  },
  {
   "cell_type": "code",
   "execution_count": 21,
   "id": "5b6cc2e1",
   "metadata": {},
   "outputs": [],
   "source": [
    "# Llamamos a la función para descargar los datos\n",
    "data=cargar_datos()"
   ]
  },
  {
   "cell_type": "code",
   "execution_count": 22,
   "id": "ee77e87f",
   "metadata": {},
   "outputs": [
    {
     "name": "stdout",
     "output_type": "stream",
     "text": [
      "   edad nivel_educativo  horas_trabajadas  ingreso_mensual\n",
      "0    56      secundaria              48.9          1673.99\n",
      "1    46      secundaria              46.1          1614.62\n",
      "2    32      secundaria              32.8          1398.33\n",
      "3    60     universidad              37.3          2305.59\n",
      "4    25     universidad              38.6          2037.76\n"
     ]
    }
   ],
   "source": [
    "print(data.head())"
   ]
  },
  {
   "cell_type": "markdown",
   "id": "4f93af92",
   "metadata": {},
   "source": [
    "4. Exploración de datos"
   ]
  },
  {
   "cell_type": "markdown",
   "id": "31cf38ff",
   "metadata": {},
   "source": [
    "4.1 Tipos de datos"
   ]
  },
  {
   "cell_type": "code",
   "execution_count": 23,
   "id": "7efea844",
   "metadata": {},
   "outputs": [
    {
     "name": "stdout",
     "output_type": "stream",
     "text": [
      "<class 'pandas.core.frame.DataFrame'>\n",
      "RangeIndex: 100 entries, 0 to 99\n",
      "Data columns (total 4 columns):\n",
      " #   Column            Non-Null Count  Dtype  \n",
      "---  ------            --------------  -----  \n",
      " 0   edad              100 non-null    int64  \n",
      " 1   nivel_educativo   100 non-null    object \n",
      " 2   horas_trabajadas  100 non-null    float64\n",
      " 3   ingreso_mensual   100 non-null    float64\n",
      "dtypes: float64(2), int64(1), object(1)\n",
      "memory usage: 3.2+ KB\n"
     ]
    }
   ],
   "source": [
    "# Resumen del dataframe\n",
    "data.info()"
   ]
  },
  {
   "cell_type": "code",
   "execution_count": 25,
   "id": "14c8fb92",
   "metadata": {},
   "outputs": [
    {
     "data": {
      "text/plain": [
       "nivel_educativo\n",
       "secundaria     43\n",
       "universidad    41\n",
       "posgrado       16\n",
       "Name: count, dtype: int64"
      ]
     },
     "execution_count": 25,
     "metadata": {},
     "output_type": "execute_result"
    }
   ],
   "source": [
    "# Para el caso de la variable `nivel_educativo`, que es de tipo objeto (string), podemos utilizar el método `value_counts()`\n",
    "# para ver la cantidad de ocurrencias de cada categoría.\n",
    "data[\"nivel_educativo\"].value_counts()"
   ]
  },
  {
   "cell_type": "markdown",
   "id": "63237c63",
   "metadata": {},
   "source": [
    "Se observa que las categorías 'secundaria' y 'universidad' están equilibradas porque tienen aproximadamente la misma cantidad de observaciones, la categoría 'posgrado' presenta un desequilibrio, dado que lo que se busca es predecir el 'ingreso' la cual es una variable numérica, usando ElasticNET (Regresión), no va a ser necerario balancearla."
   ]
  },
  {
   "cell_type": "markdown",
   "id": "6cf4aa19",
   "metadata": {},
   "source": [
    "4.2 Estadísticas Descriptivas"
   ]
  },
  {
   "cell_type": "code",
   "execution_count": 26,
   "id": "16db88ef",
   "metadata": {},
   "outputs": [
    {
     "data": {
      "text/html": [
       "<div>\n",
       "<style scoped>\n",
       "    .dataframe tbody tr th:only-of-type {\n",
       "        vertical-align: middle;\n",
       "    }\n",
       "\n",
       "    .dataframe tbody tr th {\n",
       "        vertical-align: top;\n",
       "    }\n",
       "\n",
       "    .dataframe thead th {\n",
       "        text-align: right;\n",
       "    }\n",
       "</style>\n",
       "<table border=\"1\" class=\"dataframe\">\n",
       "  <thead>\n",
       "    <tr style=\"text-align: right;\">\n",
       "      <th></th>\n",
       "      <th>edad</th>\n",
       "      <th>horas_trabajadas</th>\n",
       "      <th>ingreso_mensual</th>\n",
       "    </tr>\n",
       "  </thead>\n",
       "  <tbody>\n",
       "    <tr>\n",
       "      <th>count</th>\n",
       "      <td>100.00000</td>\n",
       "      <td>100.000000</td>\n",
       "      <td>100.000000</td>\n",
       "    </tr>\n",
       "    <tr>\n",
       "      <th>mean</th>\n",
       "      <td>40.88000</td>\n",
       "      <td>39.618000</td>\n",
       "      <td>2050.027300</td>\n",
       "    </tr>\n",
       "    <tr>\n",
       "      <th>std</th>\n",
       "      <td>13.99082</td>\n",
       "      <td>9.575436</td>\n",
       "      <td>703.799056</td>\n",
       "    </tr>\n",
       "    <tr>\n",
       "      <th>min</th>\n",
       "      <td>18.00000</td>\n",
       "      <td>20.000000</td>\n",
       "      <td>997.200000</td>\n",
       "    </tr>\n",
       "    <tr>\n",
       "      <th>25%</th>\n",
       "      <td>30.50000</td>\n",
       "      <td>33.025000</td>\n",
       "      <td>1437.977500</td>\n",
       "    </tr>\n",
       "    <tr>\n",
       "      <th>50%</th>\n",
       "      <td>41.00000</td>\n",
       "      <td>39.750000</td>\n",
       "      <td>1982.415000</td>\n",
       "    </tr>\n",
       "    <tr>\n",
       "      <th>75%</th>\n",
       "      <td>53.25000</td>\n",
       "      <td>46.225000</td>\n",
       "      <td>2474.257500</td>\n",
       "    </tr>\n",
       "    <tr>\n",
       "      <th>max</th>\n",
       "      <td>64.00000</td>\n",
       "      <td>60.000000</td>\n",
       "      <td>3726.640000</td>\n",
       "    </tr>\n",
       "  </tbody>\n",
       "</table>\n",
       "</div>"
      ],
      "text/plain": [
       "            edad  horas_trabajadas  ingreso_mensual\n",
       "count  100.00000        100.000000       100.000000\n",
       "mean    40.88000         39.618000      2050.027300\n",
       "std     13.99082          9.575436       703.799056\n",
       "min     18.00000         20.000000       997.200000\n",
       "25%     30.50000         33.025000      1437.977500\n",
       "50%     41.00000         39.750000      1982.415000\n",
       "75%     53.25000         46.225000      2474.257500\n",
       "max     64.00000         60.000000      3726.640000"
      ]
     },
     "execution_count": 26,
     "metadata": {},
     "output_type": "execute_result"
    }
   ],
   "source": [
    "# El método `describe()` nos proporciona estadísticas descriptivas de las columnas numéricas del DataFrame.\n",
    "data.describe()"
   ]
  },
  {
   "cell_type": "markdown",
   "id": "7037ae1e",
   "metadata": {},
   "source": [
    "4.3 Histograma de las variables numéricas\n"
   ]
  },
  {
   "cell_type": "code",
   "execution_count": 27,
   "id": "d4520c73",
   "metadata": {},
   "outputs": [
    {
     "data": {
      "image/png": "[encoded data removed]",
      "text/plain": [
       "<Figure size 2000x1500 with 4 Axes>"
      ]
     },
     "metadata": {},
     "output_type": "display_data"
    }
   ],
   "source": [
    "# El método `hist()` nos permite visualizar la distribución de los datos numéricos en el DataFrame.\n",
    "data.hist(bins=50, figsize=(20, 15))\n",
    "plt.show()"
   ]
  },
  {
   "cell_type": "markdown",
   "id": "f93e0d47",
   "metadata": {},
   "source": [
    "edad: Distribución dispersa, con varios picos entre 20 y 60 años. Indica que hay participantes en varios rangos de edad, sin un solo grupo dominante.\n",
    "\n",
    "horas_trabajadas: Más concentrado entre 20 y 40 horas, sugiere que la mayoría trabaja tiempo parcial o completo estándar.\n",
    "\n",
    "ingreso_mensual: Parece tener valores atípicos o datos agrupados; la mayor parte de los datos están muy concentrados en un solo rango."
   ]
  },
  {
   "cell_type": "markdown",
   "id": "bac00e1c",
   "metadata": {},
   "source": [
    "4.4 Análisis de correlación"
   ]
  },
  {
   "cell_type": "code",
   "execution_count": 31,
   "id": "d7d525cf",
   "metadata": {},
   "outputs": [],
   "source": [
    "#Extraer correlaciones (no se deben incluir variables numéricas)\n",
    "corr_matrix = data.loc[:, data.columns != \"nivel_educativo\"].corr()"
   ]
  },
  {
   "cell_type": "code",
   "execution_count": 32,
   "id": "6000d120",
   "metadata": {},
   "outputs": [
    {
     "data": {
      "text/plain": [
       "ingreso_mensual     1.000000\n",
       "edad                0.382436\n",
       "horas_trabajadas    0.214370\n",
       "Name: ingreso_mensual, dtype: float64"
      ]
     },
     "execution_count": 32,
     "metadata": {},
     "output_type": "execute_result"
    }
   ],
   "source": [
    "#Extraer las correlación de todas las variables con 'ingreso_mensual'\n",
    "corr_matrix[\"ingreso_mensual\"].sort_values(ascending=False)"
   ]
  },
  {
   "cell_type": "markdown",
   "id": "183bb245",
   "metadata": {},
   "source": [
    "Se observa que las variables 'edad' y 'horas_trabajadas' tienen correlación débil con la variable respuesta 'ingreso_mensual', esto es explican poco por sí solas. Para el modelo ElasticNET se esperan coeficientes bajos o inclusive cero. Se usan como base pero se debería buscar o construir otras variables para explicar mejor el modelo."
   ]
  },
  {
   "cell_type": "code",
   "execution_count": 33,
   "id": "2e3e490d",
   "metadata": {},
   "outputs": [
    {
     "data": {
      "image/png": "[encoded data removed]",
      "text/plain": [
       "<Figure size 1000x1000 with 2 Axes>"
      ]
     },
     "metadata": {},
     "output_type": "display_data"
    }
   ],
   "source": [
    "#Grafico de correlación:\n",
    "plt.figure(figsize=(10, 10))\n",
    "sns.heatmap(corr_matrix, annot=True, fmt=\".2f\", cmap=\"coolwarm\", square=True)\n",
    "plt.title(\"Correlation Matrix\")\n",
    "plt.show()"
   ]
  },
  {
   "cell_type": "markdown",
   "id": "fc9cd79b",
   "metadata": {},
   "source": [
    "Se observa que las variables 'horas_trabajadas' y 'edad' presentan una correlación prácticamente nula, es decir estás variables no están relacionadas.\n",
    "\n",
    "'Edad' e 'ingreso_mensual' tienen una correlación de 0.38 lo cuál es una correlación débil/moderada positiva.\n",
    "\n",
    "'horas_trabajadas' e 'ingreso_mensual' presentan una correlación de 0.21 lo cuál es débil positiva.\n",
    " Luego como las correlaciones son bajas, puede ocurrir que el modelo ElasticNET anule coeficientes, y se deban buscar más variables.\n"
   ]
  }
 ],
 "metadata": {
  "kernelspec": {
   "display_name": "venv",
   "language": "python",
   "name": "python3"
  },
  "language_info": {
   "codemirror_mode": {
    "name": "ipython",
    "version": 3
   },
   "file_extension": ".py",
   "mimetype": "text/x-python",
   "name": "python",
   "nbconvert_exporter": "python",
   "pygments_lexer": "ipython3",
   "version": "3.11.0"
  }
 },
 "nbformat": 4,
 "nbformat_minor": 5
}
