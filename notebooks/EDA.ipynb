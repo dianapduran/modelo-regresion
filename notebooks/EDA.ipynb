{
 "cells": [
  {
   "cell_type": "markdown",
   "id": "5645a688",
   "metadata": {},
   "source": [
    "1. Importar librerías"
   ]
  },
  {
   "cell_type": "code",
   "execution_count": 1,
   "id": "764ce830",
   "metadata": {},
   "outputs": [],
   "source": [
    "# PEP8 es una guía de estilo para escribir código Python. (https://www.python.org/dev/peps/pep-0008/)\n",
    "\n",
    "# Librerías estándar de python\n",
    "import os\n",
    "import tarfile\n",
    "import urllib.request as request\n",
    "import pandas as pd\n",
    "# Librerías de terceros\n",
    "import pandas as pd\n",
    "import numpy as np\n",
    "import matplotlib.pyplot as plt\n",
    "import seaborn as sns\n",
    "from sklearn.model_selection import train_test_split\n",
    "from sklearn.preprocessing import OrdinalEncoder, OneHotEncoder, StandardScaler\n",
    "from sklearn.linear_model import LinearRegression\n",
    "from sklearn.impute import SimpleImputer\n",
    "from sklearn.pipeline import Pipeline\n",
    "from sklearn.compose import ColumnTransformer\n",
    "from sklearn.metrics import mean_squared_error, r2_score\n",
    "\n",
    "# Librerías locales\n",
    "# from mi_clase import AwsStorage\n",
    "\n",
    "%matplotlib inline"
   ]
  },
  {
   "cell_type": "code",
   "execution_count": 8,
   "id": "41b6165a",
   "metadata": {},
   "outputs": [
    {
     "name": "stdout",
     "output_type": "stream",
     "text": [
      "d:\\OneDrive - Landers\\Documentos\\Curso Python\\parte_2\\venv\\Scripts\\python.exe\n"
     ]
    }
   ],
   "source": [
    "import sys\n",
    "print(sys.executable)\n"
   ]
  },
  {
   "cell_type": "code",
   "execution_count": 3,
   "id": "b34e43cc",
   "metadata": {},
   "outputs": [],
   "source": [
    "import os\n",
    "\n",
    "# Carpeta donde están los datos\n",
    "DATA_DIR = os.path.join(\"data\")\n",
    "\n",
    "# Ruta completa al archivo\n",
    "INGRESOS_PATH = os.path.join(DATA_DIR, \"ingresos.txt\")\n"
   ]
  },
  {
   "cell_type": "code",
   "execution_count": 4,
   "id": "ba9364dc",
   "metadata": {},
   "outputs": [
    {
     "name": "stdout",
     "output_type": "stream",
     "text": [
      "data\\ingresos.txt\n"
     ]
    }
   ],
   "source": [
    "print(INGRESOS_PATH)"
   ]
  },
  {
   "cell_type": "markdown",
   "id": "ec6a292b",
   "metadata": {},
   "source": [
    "3. Extracción de los datos"
   ]
  },
  {
   "cell_type": "code",
   "execution_count": 5,
   "id": "0e0e52fd",
   "metadata": {},
   "outputs": [],
   "source": [
    "import os\n",
    "\n",
    "# Ruta a la carpeta de datos\n",
    "DATA_DIR = os.path.join(\"data\")\n",
    "# Ruta completa al archivo\n",
    "INGRESOS_PATH = os.path.join(DATA_DIR, \"ingresos.txt\")\n",
    "\n",
    "def cargar_datos(path: str = INGRESOS_PATH) -> pd.DataFrame:\n",
    "    # Verifica que el archivo exista\n",
    "    if not os.path.isfile(path):\n",
    "        raise FileNotFoundError(f\"Archivo no encontrado en: {path}\")\n",
    "    \n",
    "    # Carga el archivo CSV y lo devuelve como DataFrame\n",
    "    return pd.read_csv(path)"
   ]
  },
  {
   "cell_type": "code",
   "execution_count": 8,
   "id": "5cbd9084",
   "metadata": {},
   "outputs": [
    {
     "name": "stdout",
     "output_type": "stream",
     "text": [
      "data\n"
     ]
    }
   ],
   "source": [
    "print(DATA_DIR)"
   ]
  },
  {
   "cell_type": "code",
   "execution_count": 13,
   "id": "78ad0cce",
   "metadata": {},
   "outputs": [
    {
     "name": "stdout",
     "output_type": "stream",
     "text": [
      "Directorio actual: d:\\OneDrive - Landers\\Documentos\\Curso Python\\parte_2\\Sln_PublicarModelodeRegresion\\notebooks\n"
     ]
    }
   ],
   "source": [
    "print(\"Directorio actual:\", os.getcwd())"
   ]
  },
  {
   "cell_type": "code",
   "execution_count": 6,
   "id": "5b6cc2e1",
   "metadata": {},
   "outputs": [
    {
     "ename": "FileNotFoundError",
     "evalue": "Archivo no encontrado en: data\\ingresos.txt",
     "output_type": "error",
     "traceback": [
      "\u001b[31m---------------------------------------------------------------------------\u001b[39m",
      "\u001b[31mFileNotFoundError\u001b[39m                         Traceback (most recent call last)",
      "\u001b[36mCell\u001b[39m\u001b[36m \u001b[39m\u001b[32mIn[6]\u001b[39m\u001b[32m, line 2\u001b[39m\n\u001b[32m      1\u001b[39m \u001b[38;5;66;03m# Llamamos a la función para descargar los datos\u001b[39;00m\n\u001b[32m----> \u001b[39m\u001b[32m2\u001b[39m \u001b[43mcargar_datos\u001b[49m\u001b[43m(\u001b[49m\u001b[43m)\u001b[49m\n",
      "\u001b[36mCell\u001b[39m\u001b[36m \u001b[39m\u001b[32mIn[5]\u001b[39m\u001b[32m, line 11\u001b[39m, in \u001b[36mcargar_datos\u001b[39m\u001b[34m(path)\u001b[39m\n\u001b[32m      8\u001b[39m \u001b[38;5;28;01mdef\u001b[39;00m\u001b[38;5;250m \u001b[39m\u001b[34mcargar_datos\u001b[39m(path: \u001b[38;5;28mstr\u001b[39m = INGRESOS_PATH) -> pd.DataFrame:\n\u001b[32m      9\u001b[39m     \u001b[38;5;66;03m# Verifica que el archivo exista\u001b[39;00m\n\u001b[32m     10\u001b[39m     \u001b[38;5;28;01mif\u001b[39;00m \u001b[38;5;129;01mnot\u001b[39;00m os.path.isfile(path):\n\u001b[32m---> \u001b[39m\u001b[32m11\u001b[39m         \u001b[38;5;28;01mraise\u001b[39;00m \u001b[38;5;167;01mFileNotFoundError\u001b[39;00m(\u001b[33mf\u001b[39m\u001b[33m\"\u001b[39m\u001b[33mArchivo no encontrado en: \u001b[39m\u001b[38;5;132;01m{\u001b[39;00mpath\u001b[38;5;132;01m}\u001b[39;00m\u001b[33m\"\u001b[39m)\n\u001b[32m     13\u001b[39m     \u001b[38;5;66;03m# Carga el archivo CSV y lo devuelve como DataFrame\u001b[39;00m\n\u001b[32m     14\u001b[39m     \u001b[38;5;28;01mreturn\u001b[39;00m pd.read_csv(path)\n",
      "\u001b[31mFileNotFoundError\u001b[39m: Archivo no encontrado en: data\\ingresos.txt"
     ]
    }
   ],
   "source": [
    "# Llamamos a la función para descargar los datos\n",
    "cargar_datos()"
   ]
  }
 ],
 "metadata": {
  "kernelspec": {
   "display_name": "venv",
   "language": "python",
   "name": "python3"
  },
  "language_info": {
   "codemirror_mode": {
    "name": "ipython",
    "version": 3
   },
   "file_extension": ".py",
   "mimetype": "text/x-python",
   "name": "python",
   "nbconvert_exporter": "python",
   "pygments_lexer": "ipython3",
   "version": "3.11.0"
  }
 },
 "nbformat": 4,
 "nbformat_minor": 5
}
