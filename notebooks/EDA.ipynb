{
 "cells": [
  {
   "cell_type": "markdown",
   "id": "5645a688",
   "metadata": {},
   "source": [
    "1. Importar librerías"
   ]
  },
  {
   "cell_type": "code",
   "execution_count": 1,
   "id": "764ce830",
   "metadata": {},
   "outputs": [],
   "source": [
    "# PEP8 es una guía de estilo para escribir código Python. (https://www.python.org/dev/peps/pep-0008/)\n",
    "\n",
    "# Librerías estándar de python\n",
    "import os\n",
    "import tarfile\n",
    "import urllib.request as request\n",
    "import pandas as pd\n",
    "# Librerías de terceros\n",
    "import pandas as pd\n",
    "import numpy as np\n",
    "import matplotlib.pyplot as plt\n",
    "import seaborn as sns\n",
    "from sklearn.model_selection import train_test_split\n",
    "from sklearn.preprocessing import OrdinalEncoder, OneHotEncoder, StandardScaler\n",
    "from sklearn.linear_model import LinearRegression\n",
    "from sklearn.impute import SimpleImputer\n",
    "from sklearn.pipeline import Pipeline\n",
    "from sklearn.compose import ColumnTransformer\n",
    "from sklearn.metrics import mean_squared_error, r2_score\n",
    "\n",
    "# Librerías locales\n",
    "# from mi_clase import AwsStorage\n",
    "\n",
    "%matplotlib inline"
   ]
  },
  {
   "cell_type": "code",
   "execution_count": 2,
   "id": "41b6165a",
   "metadata": {},
   "outputs": [
    {
     "name": "stdout",
     "output_type": "stream",
     "text": [
      "d:\\OneDrive - Landers\\Documentos\\Curso Python\\parte_2\\Sln_PublicarModelodeRegresion\\venv\\Scripts\\python.exe\n"
     ]
    }
   ],
   "source": [
    "import sys\n",
    "print(sys.executable)\n"
   ]
  },
  {
   "cell_type": "code",
   "execution_count": 3,
   "id": "b34e43cc",
   "metadata": {},
   "outputs": [],
   "source": [
    "import os\n",
    "\n",
    "# Carpeta donde están los datos\n",
    "DATA_DIR = os.path.join(\"data\")\n",
    "\n",
    "# Ruta completa al archivo\n",
    "INGRESOS_PATH = os.path.join(DATA_DIR, \"ingresos.txt\")\n"
   ]
  },
  {
   "cell_type": "code",
   "execution_count": 4,
   "id": "ba9364dc",
   "metadata": {},
   "outputs": [
    {
     "name": "stdout",
     "output_type": "stream",
     "text": [
      "data\\ingresos.txt\n"
     ]
    }
   ],
   "source": [
    "print(INGRESOS_PATH)"
   ]
  },
  {
   "cell_type": "markdown",
   "id": "ec6a292b",
   "metadata": {},
   "source": [
    "3. Extracción de los datos"
   ]
  },
  {
   "cell_type": "code",
   "execution_count": 5,
   "id": "0e0e52fd",
   "metadata": {},
   "outputs": [],
   "source": [
    "import os\n",
    "\n",
    "# Ruta a la carpeta de datos\n",
    "DATA_DIR = os.path.join(\"data\")\n",
    "# Ruta completa al archivo\n",
    "INGRESOS_PATH = os.path.join(DATA_DIR, \"ingresos.txt\")\n",
    "\n",
    "def cargar_datos(path: str = INGRESOS_PATH) -> pd.DataFrame:\n",
    "    # Verifica que el archivo exista\n",
    "    if not os.path.isfile(path):\n",
    "        raise FileNotFoundError(f\"Archivo no encontrado en: {path}\")\n",
    "    \n",
    "    # Carga el archivo CSV y lo devuelve como DataFrame\n",
    "    return pd.read_csv(path)"
   ]
  },
  {
   "cell_type": "code",
   "execution_count": 13,
   "id": "5cbd9084",
   "metadata": {},
   "outputs": [
    {
     "name": "stdout",
     "output_type": "stream",
     "text": [
      "data\n"
     ]
    }
   ],
   "source": [
    "print(DATA_DIR)"
   ]
  },
  {
   "cell_type": "code",
   "execution_count": 15,
   "id": "78ad0cce",
   "metadata": {},
   "outputs": [
    {
     "name": "stdout",
     "output_type": "stream",
     "text": [
      "Directorio actual: d:\\OneDrive - Landers\\Documentos\\Curso Python\\parte_2\\Sln_PublicarModelodeRegresion\\notebooks\n"
     ]
    }
   ],
   "source": [
    "print(\"Directorio actual:\", os.getcwd())"
   ]
  },
  {
   "cell_type": "code",
   "execution_count": 16,
   "id": "f9de796f",
   "metadata": {},
   "outputs": [],
   "source": [
    "os.chdir( 'd:\\OneDrive - Landers\\Documentos\\Curso Python\\parte_2\\Sln_PublicarModelodeRegresion')"
   ]
  },
  {
   "cell_type": "code",
   "execution_count": 21,
   "id": "5b6cc2e1",
   "metadata": {},
   "outputs": [],
   "source": [
    "# Llamamos a la función para descargar los datos\n",
    "data=cargar_datos()"
   ]
  },
  {
   "cell_type": "code",
   "execution_count": 22,
   "id": "ee77e87f",
   "metadata": {},
   "outputs": [
    {
     "name": "stdout",
     "output_type": "stream",
     "text": [
      "   edad nivel_educativo  horas_trabajadas  ingreso_mensual\n",
      "0    56      secundaria              48.9          1673.99\n",
      "1    46      secundaria              46.1          1614.62\n",
      "2    32      secundaria              32.8          1398.33\n",
      "3    60     universidad              37.3          2305.59\n",
      "4    25     universidad              38.6          2037.76\n"
     ]
    }
   ],
   "source": [
    "print(data.head())"
   ]
  },
  {
   "cell_type": "markdown",
   "id": "4f93af92",
   "metadata": {},
   "source": [
    "4. Exploración de datos"
   ]
  },
  {
   "cell_type": "markdown",
   "id": "31cf38ff",
   "metadata": {},
   "source": [
    "4.1 Tipos de datos"
   ]
  },
  {
   "cell_type": "code",
   "execution_count": 23,
   "id": "7efea844",
   "metadata": {},
   "outputs": [
    {
     "name": "stdout",
     "output_type": "stream",
     "text": [
      "<class 'pandas.core.frame.DataFrame'>\n",
      "RangeIndex: 100 entries, 0 to 99\n",
      "Data columns (total 4 columns):\n",
      " #   Column            Non-Null Count  Dtype  \n",
      "---  ------            --------------  -----  \n",
      " 0   edad              100 non-null    int64  \n",
      " 1   nivel_educativo   100 non-null    object \n",
      " 2   horas_trabajadas  100 non-null    float64\n",
      " 3   ingreso_mensual   100 non-null    float64\n",
      "dtypes: float64(2), int64(1), object(1)\n",
      "memory usage: 3.2+ KB\n"
     ]
    }
   ],
   "source": [
    "# Resumen del dataframe\n",
    "data.info()"
   ]
  },
  {
   "cell_type": "code",
   "execution_count": 25,
   "id": "14c8fb92",
   "metadata": {},
   "outputs": [
    {
     "data": {
      "text/plain": [
       "nivel_educativo\n",
       "secundaria     43\n",
       "universidad    41\n",
       "posgrado       16\n",
       "Name: count, dtype: int64"
      ]
     },
     "execution_count": 25,
     "metadata": {},
     "output_type": "execute_result"
    }
   ],
   "source": [
    "# Para el caso de la variable `nivel_educativo`, que es de tipo objeto (string), podemos utilizar el método `value_counts()`\n",
    "# para ver la cantidad de ocurrencias de cada categoría.\n",
    "data[\"nivel_educativo\"].value_counts()"
   ]
  },
  {
   "cell_type": "markdown",
   "id": "63237c63",
   "metadata": {},
   "source": [
    "Se observa que las categorías 'secundaria' y 'universidad' están equilibradas porque tienen aproximadamente la misma cantidad de observaciones, la categoría 'posgrado' presenta un desequilibrio, dado que lo que se busca es predecir el 'ingreso' la cual es una variable numérica, usando ElasticNET (Regresión), no va a ser necerario balancearla."
   ]
  }
 ],
 "metadata": {
  "kernelspec": {
   "display_name": "venv",
   "language": "python",
   "name": "python3"
  },
  "language_info": {
   "codemirror_mode": {
    "name": "ipython",
    "version": 3
   },
   "file_extension": ".py",
   "mimetype": "text/x-python",
   "name": "python",
   "nbconvert_exporter": "python",
   "pygments_lexer": "ipython3",
   "version": "3.11.0"
  }
 },
 "nbformat": 4,
 "nbformat_minor": 5
}
