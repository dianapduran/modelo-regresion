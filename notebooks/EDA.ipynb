{
 "cells": [
  {
   "cell_type": "markdown",
   "id": "5645a688",
   "metadata": {},
   "source": [
    "1. Importar librerías"
   ]
  },
  {
   "cell_type": "code",
   "execution_count": null,
   "id": "764ce830",
   "metadata": {},
   "outputs": [],
   "source": [
    "# PEP8 es una guía de estilo para escribir código Python. (https://www.python.org/dev/peps/pep-0008/)\n",
    "\n",
    "# Librerías estándar de python\n",
    "import os\n",
    "import tarfile\n",
    "import urllib.request as request\n",
    "import pandas as pd\n",
    "# Librerías de terceros\n",
    "import pandas as pd\n",
    "import numpy as np\n",
    "import matplotlib.pyplot as plt\n",
    "import seaborn as sns\n",
    "from sklearn.model_selection import train_test_split\n",
    "from sklearn.preprocessing import OrdinalEncoder, OneHotEncoder, StandardScaler\n",
    "from sklearn.linear_model import LinearRegression\n",
    "from sklearn.impute import SimpleImputer\n",
    "from sklearn.pipeline import Pipeline\n",
    "from sklearn.compose import ColumnTransformer\n",
    "from sklearn.metrics import mean_squared_error, r2_score\n",
    "\n",
    "# Librerías locales\n",
    "# from mi_clase import AwsStorage\n",
    "\n",
    "%matplotlib inline"
   ]
  },
  {
   "cell_type": "code",
   "execution_count": 1,
   "id": "b34e43cc",
   "metadata": {},
   "outputs": [],
   "source": [
    "import os\n",
    "\n",
    "# Carpeta donde están los datos\n",
    "DATA_DIR = os.path.join(\"data\")\n",
    "\n",
    "# Ruta completa al archivo\n",
    "INGRESOS_PATH = os.path.join(DATA_DIR, \"ingresos.txt\")\n"
   ]
  },
  {
   "cell_type": "code",
   "execution_count": 2,
   "id": "ba9364dc",
   "metadata": {},
   "outputs": [
    {
     "name": "stdout",
     "output_type": "stream",
     "text": [
      "data\\ingresos.txt\n"
     ]
    }
   ],
   "source": [
    "print(INGRESOS_PATH)"
   ]
  },
  {
   "cell_type": "markdown",
   "id": "ec6a292b",
   "metadata": {},
   "source": [
    "3. Extracción de los datos"
   ]
  },
  {
   "cell_type": "code",
   "execution_count": null,
   "id": "0e0e52fd",
   "metadata": {},
   "outputs": [],
   "source": [
    "import os\n",
    "\n",
    "# Ruta a la carpeta de datos\n",
    "DATA_DIR = os.path.join(\"data\")\n",
    "# Ruta completa al archivo\n",
    "INGRESOS_PATH = os.path.join(DATA_DIR, \"ingresos.txt\")\n",
    "\n",
    "def cargar_datos(path: str = INGRESOS_PATH) -> pd.DataFrame:\n",
    "    # Verifica que el archivo exista\n",
    "    if not os.path.isfile(path):\n",
    "        raise FileNotFoundError(f\"Archivo no encontrado en: {path}\")\n",
    "    \n",
    "    # Carga el archivo CSV y lo devuelve como DataFrame\n",
    "    return pd.read_csv(path)"
   ]
  }
 ],
 "metadata": {
  "kernelspec": {
   "display_name": "venv",
   "language": "python",
   "name": "python3"
  },
  "language_info": {
   "codemirror_mode": {
    "name": "ipython",
    "version": 3
   },
   "file_extension": ".py",
   "mimetype": "text/x-python",
   "name": "python",
   "nbconvert_exporter": "python",
   "pygments_lexer": "ipython3",
   "version": "3.13.0"
  }
 },
 "nbformat": 4,
 "nbformat_minor": 5
}
